{
  "nbformat": 4,
  "nbformat_minor": 0,
  "metadata": {
    "colab": {
      "name": "Victoria.ipynb",
      "provenance": [],
      "authorship_tag": "ABX9TyMpNC32WbPHBW7kes82kXWJ",
      "include_colab_link": true
    },
    "kernelspec": {
      "name": "python3",
      "display_name": "Python 3"
    }
  },
  "cells": [
    {
      "cell_type": "markdown",
      "metadata": {
        "id": "view-in-github",
        "colab_type": "text"
      },
      "source": [
        "<a href=\"https://colab.research.google.com/github/vixkly/Python3/blob/master/Victoria.ipynb\" target=\"_parent\"><img src=\"https://colab.research.google.com/assets/colab-badge.svg\" alt=\"Open In Colab\"/></a>"
      ]
    },
    {
      "cell_type": "code",
      "metadata": {
        "id": "svuuj1o8JIVt"
      },
      "source": [
        "import pandas as pd\r\n",
        "import statistics"
      ],
      "execution_count": 1,
      "outputs": []
    },
    {
      "cell_type": "markdown",
      "metadata": {
        "id": "LEOGyzqEe-bd"
      },
      "source": [
        "##Abordagem X"
      ]
    },
    {
      "cell_type": "code",
      "metadata": {
        "colab": {
          "base_uri": "https://localhost:8080/"
        },
        "id": "0bssnQADJoBO",
        "outputId": "2e1be920-f024-499f-af63-d65e7cfe688a"
      },
      "source": [
        "#Abordagem X - Avaliação 01\r\n",
        "AvalicaoX01 = [[0.00, 4.21, 1.23],\r\n",
        "               [0.00, 2.85, 3.60],\r\n",
        "               [5.50, 3.94, 9.35],\r\n",
        "               [5.67, 1.89, 6.08],\r\n",
        "               [6.96, 2.88, 8.71],\r\n",
        "               [3.02, 6.55, 3.44],\r\n",
        "               [0.44, 0.00, 0.73],\r\n",
        "               [0.00, 0.00, 0.90],\r\n",
        "               [3.77, 5.67, 1.90],\r\n",
        "               [4.77, 9.57, 2.75],\r\n",
        "               [3.43, 0.83, 0.93],\r\n",
        "               [0.00, 1.08, 1.95],\r\n",
        "               [7.30, 6.05, 2.39],\r\n",
        "               [2.73, 5.10, 6.71],\r\n",
        "               [5.82, 5.72, 6.31]]\r\n",
        "\r\n",
        "AvalicaoX01Total = [0.00, 4.21, 1.23, 0.00, 2.85, 3.60, 5.50, 3.94, 9.35, 5.67, 1.89, 6.08, 6.96, 2.88, 8.71, 3.02, 6.55, 3.44, 0.44, 0.00, 0.73, 0.00, 0.00, 0.90, 3.77, 5.67, 1.90, 4.77, 9.57, 2.75, 3.43, 0.83, 0.93, \r\n",
        "                    0.00, 1.08, 1.95, 7.30, 6.05, 2.39, 2.73, 5.10, 6.71, 5.82, 5.72, 6.31]\r\n",
        "\r\n",
        "df01 = pd.DataFrame(AvalicaoX01, columns=['A1', 'A2', 'A3'])\r\n",
        "\r\n",
        "media_aritmetica = statistics.stdev(AvalicaoX01Total)\r\n",
        "print(\"A média aritmética das avaliações da abordagem X, na primeira avaliação é: %.2f\" % media_aritmetica)"
      ],
      "execution_count": 2,
      "outputs": [
        {
          "output_type": "stream",
          "text": [
            "A média aritmética das avaliações da abordagem X, na primeira avaliação é: 2.72\n"
          ],
          "name": "stdout"
        }
      ]
    },
    {
      "cell_type": "code",
      "metadata": {
        "colab": {
          "base_uri": "https://localhost:8080/"
        },
        "id": "KkN8gMWEPUVZ",
        "outputId": "0b29b35e-409d-41ca-f2d5-bebe3e74fb7d"
      },
      "source": [
        "media_aluno = df01.mean(axis=1)\r\n",
        "print(\"A média dos alunos na abordagem X, na primeira avaliação é:\", media_aluno )"
      ],
      "execution_count": 3,
      "outputs": [
        {
          "output_type": "stream",
          "text": [
            "A média dos alunos na abordagem X, na primeira avaliação é: 0     1.813333\n",
            "1     2.150000\n",
            "2     6.263333\n",
            "3     4.546667\n",
            "4     6.183333\n",
            "5     4.336667\n",
            "6     0.390000\n",
            "7     0.300000\n",
            "8     3.780000\n",
            "9     5.696667\n",
            "10    1.730000\n",
            "11    1.010000\n",
            "12    5.246667\n",
            "13    4.846667\n",
            "14    5.950000\n",
            "dtype: float64\n"
          ],
          "name": "stdout"
        }
      ]
    },
    {
      "cell_type": "code",
      "metadata": {
        "colab": {
          "base_uri": "https://localhost:8080/"
        },
        "id": "CT7WhsquzDp6",
        "outputId": "2233c0d3-5db4-4efb-b0f3-4f20969ef057"
      },
      "source": [
        "media_aluno = df01.mean()\r\n",
        "print(\"A média das avalições na abordagem X, na primeira avaliação é:\", media_aluno )"
      ],
      "execution_count": 4,
      "outputs": [
        {
          "output_type": "stream",
          "text": [
            "A média das avalições na abordagem X, na primeira avaliação é: A1    3.294000\n",
            "A2    3.756000\n",
            "A3    3.798667\n",
            "dtype: float64\n"
          ],
          "name": "stdout"
        }
      ]
    },
    {
      "cell_type": "code",
      "metadata": {
        "colab": {
          "base_uri": "https://localhost:8080/"
        },
        "id": "lNrfDKCHU9-3",
        "outputId": "458301ae-e48e-4151-889a-811b9e9c5e9b"
      },
      "source": [
        "desvio_padrao = df01.std(axis=1)\r\n",
        "print(\"O desvio padrão dos alunos na abordagem X, na primeira avaliação é: \", desvio_padrao)"
      ],
      "execution_count": 5,
      "outputs": [
        {
          "output_type": "stream",
          "text": [
            "O desvio padrão dos alunos na abordagem X, na primeira avaliação é:  0     2.164771\n",
            "1     1.899342\n",
            "2     2.784606\n",
            "3     2.309856\n",
            "4     2.991594\n",
            "5     1.928272\n",
            "6     0.367560\n",
            "7     0.519615\n",
            "8     1.885020\n",
            "9     3.503160\n",
            "10    1.473092\n",
            "11    0.976883\n",
            "12    2.551673\n",
            "13    2.002057\n",
            "14    0.315753\n",
            "dtype: float64\n"
          ],
          "name": "stdout"
        }
      ]
    },
    {
      "cell_type": "code",
      "metadata": {
        "id": "rh1kQKBPc5-k",
        "colab": {
          "base_uri": "https://localhost:8080/"
        },
        "outputId": "a3dccf92-4b24-4c3d-d258-35d373f30474"
      },
      "source": [
        "#Abordagem X - Avaliação 02\r\n",
        "AvalicaoX02 = [[1.26, 0.00, 1.66],\r\n",
        "               [7.84, 0.68, 6.43],\r\n",
        "               [4.10, 7.18, 2.95],\r\n",
        "               [5.25, 5.63, 5.25],\r\n",
        "               [7.85, 4.73, 5.72],\r\n",
        "               [7.09, 0.84, 2.23],\r\n",
        "               [6.85, 7.99, 4.61],\r\n",
        "               [1.77, 4.51, 4.75],\r\n",
        "               [6.62, 8.29, 5.66],\r\n",
        "               [4.95, 5.09, 5.99],\r\n",
        "               [7.88, 0.00, 2.19],\r\n",
        "               [9.56, 7.18, 4.91],\r\n",
        "               [7.25, 3.91, 3.32],\r\n",
        "               [5.47, 5.56, 6.77],\r\n",
        "               [5.76, 0.99, 5.24],\r\n",
        "               [7.39, 2.16, 5.13],\r\n",
        "               [3.54, 2.75, 6.98],\r\n",
        "               [6.83, 5.74, 3.77],\r\n",
        "               [5.74, 3.28, 2.06],\r\n",
        "               [5.73, 4.23, 3.83],\r\n",
        "               [7.78, 3.00, 5.68],\r\n",
        "               [7.86, 3.99, 5.82],\r\n",
        "               [5.50, 4.66, 6.23],\r\n",
        "               [5.94, 2.33, 4.13],\r\n",
        "               [5.09, 7.67, 6.61]]\r\n",
        "\r\n",
        "AvalicaoX02Total = [1.26, 0.00, 1.66, 7.84, 0.68, 6.43, 4.10, 7.18, 2.95,\r\n",
        "               5.25, 5.63, 5.25,\r\n",
        "               7.85, 4.73, 5.72,\r\n",
        "               7.09, 0.84, 2.23,\r\n",
        "               6.85, 7.99, 4.61,\r\n",
        "               1.77, 4.51, 4.75,\r\n",
        "               6.62, 8.29, 5.66,\r\n",
        "               4.95, 5.09, 5.99,\r\n",
        "               7.88, 0.00, 2.19,\r\n",
        "               9.56, 7.18, 4.91,\r\n",
        "               7.25, 3.91, 3.32,\r\n",
        "               5.47, 5.56, 6.77,\r\n",
        "               5.76, 0.99, 5.24,\r\n",
        "               7.39, 2.16, 5.13,\r\n",
        "               3.54, 2.75, 6.98,\r\n",
        "               6.83, 5.74, 3.77,\r\n",
        "               5.74, 3.28, 2.06,\r\n",
        "               5.73, 4.23, 3.83,\r\n",
        "               7.78, 3.00, 5.68,\r\n",
        "               7.86, 3.99, 5.82,\r\n",
        "               5.50, 4.66, 6.23,\r\n",
        "               5.94, 2.33, 4.13,\r\n",
        "               5.09, 7.67, 6.61]\r\n",
        "\r\n",
        "df02 = pd.DataFrame(AvalicaoX02, columns=['A1', 'A2', 'A3'])\r\n",
        "\r\n",
        "media_aritmetica02 = statistics.stdev(AvalicaoX02Total)\r\n",
        "print(\"A média aritmética das avaliações da abordagem X, na segunda avaliação é: %.2f\" % media_aritmetica02)"
      ],
      "execution_count": 6,
      "outputs": [
        {
          "output_type": "stream",
          "text": [
            "A média aritmética das avaliações da abordagem X, na segunda avaliação é: 2.17\n"
          ],
          "name": "stdout"
        }
      ]
    },
    {
      "cell_type": "code",
      "metadata": {
        "colab": {
          "base_uri": "https://localhost:8080/"
        },
        "id": "GrrDuTTNdHx4",
        "outputId": "eda8cef6-8b19-4cd0-8a55-df69c28568de"
      },
      "source": [
        "media_aluno02 = df02.mean(axis=1)\r\n",
        "print(\"A média dos alunos na abordagem X, na segunda avaliação é:\", media_aluno02)"
      ],
      "execution_count": 7,
      "outputs": [
        {
          "output_type": "stream",
          "text": [
            "A média dos alunos na abordagem X, na segunda avaliação é: 0     0.973333\n",
            "1     4.983333\n",
            "2     4.743333\n",
            "3     5.376667\n",
            "4     6.100000\n",
            "5     3.386667\n",
            "6     6.483333\n",
            "7     3.676667\n",
            "8     6.856667\n",
            "9     5.343333\n",
            "10    3.356667\n",
            "11    7.216667\n",
            "12    4.826667\n",
            "13    5.933333\n",
            "14    3.996667\n",
            "15    4.893333\n",
            "16    4.423333\n",
            "17    5.446667\n",
            "18    3.693333\n",
            "19    4.596667\n",
            "20    5.486667\n",
            "21    5.890000\n",
            "22    5.463333\n",
            "23    4.133333\n",
            "24    6.456667\n",
            "dtype: float64\n"
          ],
          "name": "stdout"
        }
      ]
    },
    {
      "cell_type": "code",
      "metadata": {
        "colab": {
          "base_uri": "https://localhost:8080/"
        },
        "id": "iDXJbR-PdNNw",
        "outputId": "e7c43003-84f3-4924-8550-8a5d4139988d"
      },
      "source": [
        "desvio_padrao02 = df02.std(axis=1)\r\n",
        "print(\"O desvio padrão dos alunos na abordagem X, na segunda avaliação é: \", desvio_padrao02)"
      ],
      "execution_count": 8,
      "outputs": [
        {
          "output_type": "stream",
          "text": [
            "O desvio padrão dos alunos na abordagem X, na segunda avaliação é:  0     0.866333\n",
            "1     3.792892\n",
            "2     2.187152\n",
            "3     0.219393\n",
            "4     1.594334\n",
            "5     3.281621\n",
            "6     1.719574\n",
            "7     1.655576\n",
            "8     1.330877\n",
            "9     0.564388\n",
            "10    4.067485\n",
            "11    2.325217\n",
            "12    2.119300\n",
            "13    0.725971\n",
            "14    2.616798\n",
            "15    2.623020\n",
            "16    2.249096\n",
            "17    1.550946\n",
            "18    1.874495\n",
            "19    1.001665\n",
            "20    2.395858\n",
            "21    1.935949\n",
            "22    0.785642\n",
            "23    1.805002\n",
            "24    1.296817\n",
            "dtype: float64\n"
          ],
          "name": "stdout"
        }
      ]
    },
    {
      "cell_type": "code",
      "metadata": {
        "colab": {
          "base_uri": "https://localhost:8080/"
        },
        "id": "SNwkYTfjzb46",
        "outputId": "82635f68-976c-4e8b-e2f0-f12260a70329"
      },
      "source": [
        "media_aluno02 = df02.mean()\r\n",
        "print(\"A média das avaliações na abordagem X, na segunda avaliação é:\", media_aluno02)"
      ],
      "execution_count": 9,
      "outputs": [
        {
          "output_type": "stream",
          "text": [
            "A média das avaliações na abordagem X, na segunda avaliação é: A1    6.0360\n",
            "A2    4.0956\n",
            "A3    4.7168\n",
            "dtype: float64\n"
          ],
          "name": "stdout"
        }
      ]
    },
    {
      "cell_type": "code",
      "metadata": {
        "colab": {
          "base_uri": "https://localhost:8080/"
        },
        "id": "K--N9a8XdRl4",
        "outputId": "4f18c4c7-924c-4df6-8f74-63bec8db892c"
      },
      "source": [
        "#Abordagem X - Avaliação 03\r\n",
        "AvalicaoX03 = [[5.33, 5.20, 4.59],\r\n",
        "               [7.72, 7.56, 7.10],\r\n",
        "               [5.98, 8.36, 7.58],\r\n",
        "               [7.12, 6.65, 4.69],\r\n",
        "               [7.36, 5.86, 7.45],\r\n",
        "               [5.61, 6.09, 7.02],\r\n",
        "               [6.81, 6.76, 7.57],\r\n",
        "               [6.86, 7.87, 8.34],\r\n",
        "               [7.33, 6.08, 7.21],\r\n",
        "               [7.49, 6.88, 6.07],\r\n",
        "               [5.59, 7.26, 8.13],\r\n",
        "               [6.96, 6.55, 8.64],\r\n",
        "               [6.16, 7.95, 9.00],\r\n",
        "               [7.89, 6.29, 6.60],\r\n",
        "               [7.12, 9.24, 7.47],\r\n",
        "               [7.06, 5.95, 6.91],\r\n",
        "               [7.99, 8.29, 8.44],\r\n",
        "               [6.38, 5.28, 5.23],\r\n",
        "               [6.41, 3.79, 6.38]]\r\n",
        "\r\n",
        "AvalicaoX03Total = [5.33, 5.20, 4.59,\r\n",
        "               7.72, 7.56, 7.10,\r\n",
        "               5.98, 8.36, 7.58,\r\n",
        "               7.12, 6.65, 4.69,\r\n",
        "               7.36, 5.86, 7.45,\r\n",
        "               5.61, 6.09, 7.02,\r\n",
        "               6.81, 6.76, 7.57,\r\n",
        "               6.86, 7.87, 8.34,\r\n",
        "               7.33, 6.08, 7.21,\r\n",
        "               7.49, 6.88, 6.07,\r\n",
        "               5.59, 7.26, 8.13,\r\n",
        "               6.96, 6.55, 8.64,\r\n",
        "               6.16, 7.95, 9.00,\r\n",
        "               7.89, 6.29, 6.60,\r\n",
        "               7.12, 9.24, 7.47,\r\n",
        "               7.06, 5.95, 6.91,\r\n",
        "               7.99, 8.29, 8.44,\r\n",
        "               6.38, 5.28, 5.23,\r\n",
        "               6.41, 3.79, 6.38]\r\n",
        "\r\n",
        "df03 = pd.DataFrame(AvalicaoX03, columns=['A1', 'A2', 'A3'])\r\n",
        "\r\n",
        "media_aritmetica03 = statistics.stdev(AvalicaoX03Total)\r\n",
        "print(\"A média aritmética das avaliações da abordagem X, na terceira avaliação é: %.2f\" % media_aritmetica03)"
      ],
      "execution_count": 10,
      "outputs": [
        {
          "output_type": "stream",
          "text": [
            "A média aritmética das avaliações da abordagem X, na terceira avaliação é: 1.13\n"
          ],
          "name": "stdout"
        }
      ]
    },
    {
      "cell_type": "code",
      "metadata": {
        "colab": {
          "base_uri": "https://localhost:8080/"
        },
        "id": "11i6XJxfeyMn",
        "outputId": "fa41e951-571f-4dec-9a07-e94ba909f892"
      },
      "source": [
        "media_aluno03 = df03.mean(axis=1)\r\n",
        "print(\"A média dos alunos na abordagem X, na segunda avaliação é:\", media_aluno03)"
      ],
      "execution_count": 11,
      "outputs": [
        {
          "output_type": "stream",
          "text": [
            "A média dos alunos na abordagem X, na segunda avaliação é: 0     5.040000\n",
            "1     7.460000\n",
            "2     7.306667\n",
            "3     6.153333\n",
            "4     6.890000\n",
            "5     6.240000\n",
            "6     7.046667\n",
            "7     7.690000\n",
            "8     6.873333\n",
            "9     6.813333\n",
            "10    6.993333\n",
            "11    7.383333\n",
            "12    7.703333\n",
            "13    6.926667\n",
            "14    7.943333\n",
            "15    6.640000\n",
            "16    8.240000\n",
            "17    5.630000\n",
            "18    5.526667\n",
            "dtype: float64\n"
          ],
          "name": "stdout"
        }
      ]
    },
    {
      "cell_type": "code",
      "metadata": {
        "colab": {
          "base_uri": "https://localhost:8080/"
        },
        "id": "EV03wlaMzpTP",
        "outputId": "6897309d-eadd-4864-f382-3c57b3629b3c"
      },
      "source": [
        "media_aluno03 = df03.mean()\r\n",
        "print(\"A média das avaliçoes na abordagem X, na segunda avaliação é:\", media_aluno03)"
      ],
      "execution_count": 12,
      "outputs": [
        {
          "output_type": "stream",
          "text": [
            "A média das avaliçoes na abordagem X, na segunda avaliação é: A1    6.798421\n",
            "A2    6.732105\n",
            "A3    7.074737\n",
            "dtype: float64\n"
          ],
          "name": "stdout"
        }
      ]
    },
    {
      "cell_type": "code",
      "metadata": {
        "colab": {
          "base_uri": "https://localhost:8080/"
        },
        "id": "D_44MigIe3z8",
        "outputId": "059e50c8-2737-4a2b-c905-e1dad9ade843"
      },
      "source": [
        "desvio_padrao03 = df03.std(axis=1)\r\n",
        "print(\"O desvio padrão dos alunos na abordagem X, na segunda avaliação é: \", desvio_padrao03)"
      ],
      "execution_count": 13,
      "outputs": [
        {
          "output_type": "stream",
          "text": [
            "O desvio padrão dos alunos na abordagem X, na segunda avaliação é:  0     0.395095\n",
            "1     0.321870\n",
            "2     1.213315\n",
            "3     1.288888\n",
            "4     0.893141\n",
            "5     0.716868\n",
            "6     0.453909\n",
            "7     0.756241\n",
            "8     0.689662\n",
            "9     0.712344\n",
            "10    1.290827\n",
            "11    1.107445\n",
            "12    1.435978\n",
            "13    0.848548\n",
            "14    1.136500\n",
            "15    0.602246\n",
            "16    0.229129\n",
            "17    0.650000\n",
            "18    1.504072\n",
            "dtype: float64\n"
          ],
          "name": "stdout"
        }
      ]
    },
    {
      "cell_type": "markdown",
      "metadata": {
        "id": "YeG-3qhFfOkr"
      },
      "source": [
        "##Abordagem Y"
      ]
    },
    {
      "cell_type": "code",
      "metadata": {
        "colab": {
          "base_uri": "https://localhost:8080/"
        },
        "id": "0OJ-x38XfQup",
        "outputId": "8538c951-1d85-497b-c727-3bebbf16eff9"
      },
      "source": [
        "#Abordagem Y - Avaliação 01\r\n",
        "\r\n",
        "AbordagemY01 = [[1.23, 0.00, 0.00],\r\n",
        "                [5.69, 3.07, 0.00],\r\n",
        "                [8.08, 2.06, 0.00],\r\n",
        "                [2.96, 4.98, 7.81],\r\n",
        "                [0.58, 9.18, 1.54],\r\n",
        "                [1.28, 5.85, 4.79],\r\n",
        "                [3.28, 3.15, 0.00],\r\n",
        "                [6.61, 1.25, 3.40],\r\n",
        "                [0.00, 8.28, 5.33],\r\n",
        "                [3.65, 5.02, 7.04],\r\n",
        "                [4.79, 2.59, 1.37],\r\n",
        "                [2.65, 3.33, 0.92],\r\n",
        "                [6.84, 3.18, 10.00],\r\n",
        "                [1.86, 0.00, 4.71],\r\n",
        "                [10.00, 5.19, 8.79],\r\n",
        "                [0.86, 3.86, 2.94],\r\n",
        "                [7.87, 3.71, 4.05]]\r\n",
        "\r\n",
        "AbordagemY01Total = [1.23, 0.00, 0.00,\r\n",
        "                5.69, 3.07, 0.00,\r\n",
        "                8.08, 2.06, 0.00,\r\n",
        "                2.96, 4.98, 7.81,\r\n",
        "                0.58, 9.18, 1.54,\r\n",
        "                1.28, 5.85, 4.79,\r\n",
        "                3.28, 3.15, 0.00,\r\n",
        "                6.61, 1.25, 3.40,\r\n",
        "                0.00, 8.28, 5.33,\r\n",
        "                3.65, 5.02, 7.04,\r\n",
        "                4.79, 2.59, 1.37,\r\n",
        "                2.65, 3.33, 0.92,\r\n",
        "                6.84, 3.18, 10.00,\r\n",
        "                1.86, 0.00, 4.71,\r\n",
        "                10.00, 5.19, 8.79,\r\n",
        "                0.86, 3.86, 2.94,\r\n",
        "                7.87, 3.71, 4.05]\r\n",
        "\r\n",
        "df001 = pd.DataFrame(AbordagemY01, columns=['A1', 'A2', 'A3'])\r\n",
        "media_aritmetica_y_01 = statistics.stdev(AbordagemY01Total)\r\n",
        "print(\"A média aritmetica da abordagem Y avaliação 01 é %.2f\" % media_aritmetica_y_01)"
      ],
      "execution_count": 14,
      "outputs": [
        {
          "output_type": "stream",
          "text": [
            "A média aritmetica da abordagem Y avaliação 01 é 2.89\n"
          ],
          "name": "stdout"
        }
      ]
    },
    {
      "cell_type": "code",
      "metadata": {
        "colab": {
          "base_uri": "https://localhost:8080/"
        },
        "id": "Xt8NI9qEhAc7",
        "outputId": "f1b0066a-1dec-4b1a-e3d5-c2a0fb1c52d1"
      },
      "source": [
        "media_aluno001 = df001.mean(axis=1)\r\n",
        "print(\"A média dos alunos na abordagem X, na segunda avaliação é:\", media_aluno001)"
      ],
      "execution_count": 15,
      "outputs": [
        {
          "output_type": "stream",
          "text": [
            "A média dos alunos na abordagem X, na segunda avaliação é: 0     0.410000\n",
            "1     2.920000\n",
            "2     3.380000\n",
            "3     5.250000\n",
            "4     3.766667\n",
            "5     3.973333\n",
            "6     2.143333\n",
            "7     3.753333\n",
            "8     4.536667\n",
            "9     5.236667\n",
            "10    2.916667\n",
            "11    2.300000\n",
            "12    6.673333\n",
            "13    2.190000\n",
            "14    7.993333\n",
            "15    2.553333\n",
            "16    5.210000\n",
            "dtype: float64\n"
          ],
          "name": "stdout"
        }
      ]
    },
    {
      "cell_type": "code",
      "metadata": {
        "colab": {
          "base_uri": "https://localhost:8080/"
        },
        "id": "rvfZMaHb0xLq",
        "outputId": "85ce24f3-5a85-4f61-db0d-64e897e272cd"
      },
      "source": [
        "media_aluno001 = df001.mean()\r\n",
        "print(\"A média das avalições na abordagem X, na segunda avaliação é:\", media_aluno001)"
      ],
      "execution_count": 16,
      "outputs": [
        {
          "output_type": "stream",
          "text": [
            "A média das avalições na abordagem X, na segunda avaliação é: A1    4.013529\n",
            "A2    3.805882\n",
            "A3    3.687647\n",
            "dtype: float64\n"
          ],
          "name": "stdout"
        }
      ]
    },
    {
      "cell_type": "code",
      "metadata": {
        "colab": {
          "base_uri": "https://localhost:8080/"
        },
        "id": "liUJaoWchInU",
        "outputId": "e625e2e3-cc3e-4e26-b283-d2220eab9e0f"
      },
      "source": [
        "desvio_padrao001 = df001.std(axis=1)\r\n",
        "print(\"O desvio padrão dos alunos na abordagem X, na segunda avaliação é: \", desvio_padrao001)"
      ],
      "execution_count": 17,
      "outputs": [
        {
          "output_type": "stream",
          "text": [
            "O desvio padrão dos alunos na abordagem X, na segunda avaliação é:  0     0.710141\n",
            "1     2.847964\n",
            "2     4.198619\n",
            "3     2.436247\n",
            "4     4.712593\n",
            "5     2.391952\n",
            "6     1.857319\n",
            "7     2.697412\n",
            "8     4.196622\n",
            "9     1.705354\n",
            "10    1.733244\n",
            "11    1.242538\n",
            "12    3.413053\n",
            "13    2.372277\n",
            "14    2.502006\n",
            "15    1.536923\n",
            "16    2.309892\n",
            "dtype: float64\n"
          ],
          "name": "stdout"
        }
      ]
    },
    {
      "cell_type": "code",
      "metadata": {
        "colab": {
          "base_uri": "https://localhost:8080/"
        },
        "id": "Q1BLbcq-hURl",
        "outputId": "785916da-2548-4932-8c01-5a25cfd7b12a"
      },
      "source": [
        "#Abordagem Y - Avaliação 02\r\n",
        "\r\n",
        "AbordagemY02 = [[1.55, 0.27, 3.41],\r\n",
        "                [4.38, 4.23, 7.39],\r\n",
        "                [3.71, 6.27, 5.12],\r\n",
        "                [5.65, 6.96, 4.52],\r\n",
        "                [8.45, 3.47, 5.63],\r\n",
        "                [6.24, 5.69, 5.48],\r\n",
        "                [4.44, 3.55, 8.32],\r\n",
        "                [3.17, 4.18, 6.53],\r\n",
        "                [7.85, 8.11, 9.05],\r\n",
        "                [5.68, 4.62, 8.24],\r\n",
        "                [4.06, 3.82, 9.26],\r\n",
        "                [4.55, 8.25, 10.00],\r\n",
        "                [4.45, 3.60, 6.63],\r\n",
        "                [1.70, 6.27, 7.97],\r\n",
        "                [5.79, 7.18, 10.00],\r\n",
        "                [4.91, 4.64, 7.17],\r\n",
        "                [4.81, 6.71, 7.89],\r\n",
        "                [4.83, 8.19, 10.00],\r\n",
        "                [2.54, 6.48, 8.34],\r\n",
        "                [3.52, 8.67, 9.71],\r\n",
        "                [3.09, 7.51, 9.55],\r\n",
        "                [5.60, 4.49, 6.79],\r\n",
        "                [4.73, 7.58, 8.33],\r\n",
        "                [4.73, 7.58, 8.33],\r\n",
        "                [9.44, 7.15, 9.47],\r\n",
        "                [3.09, 6.37, 6.57]]\r\n",
        "\r\n",
        "AbordagemY02Total = [1.55, 0.27, 3.41,\r\n",
        "                4.38, 4.23, 7.39,\r\n",
        "                3.71, 6.27, 5.12,\r\n",
        "                5.65, 6.96, 4.52,\r\n",
        "                8.45, 3.47, 5.63,\r\n",
        "                6.24, 5.69, 5.48,\r\n",
        "                4.44, 3.55, 8.32,\r\n",
        "                3.17, 4.18, 6.53,\r\n",
        "                7.85, 8.11, 9.05,\r\n",
        "                5.68, 4.62, 8.24,\r\n",
        "                4.06, 3.82, 9.26,\r\n",
        "                4.55, 8.25, 10.00,\r\n",
        "                4.45, 3.60, 6.63,\r\n",
        "                1.70, 6.27, 7.97,\r\n",
        "                5.79, 7.18, 10.00,\r\n",
        "                4.91, 4.64, 7.17,\r\n",
        "                4.81, 6.71, 7.89,\r\n",
        "                4.83, 8.19, 10.00,\r\n",
        "                2.54, 6.48, 8.34,\r\n",
        "                3.52, 8.67, 9.71,\r\n",
        "                3.09, 7.51, 9.55,\r\n",
        "                5.60, 4.49, 6.79,\r\n",
        "                4.73, 7.58, 8.33,\r\n",
        "                4.73, 7.58, 8.33,\r\n",
        "                9.44, 7.15, 9.47,\r\n",
        "                3.09, 6.37, 6.57]\r\n",
        "\r\n",
        "\r\n",
        "df002 = pd.DataFrame(AbordagemY02, columns=['A1', 'A2', 'A3'])\r\n",
        "media_aritmetica_y_02 = statistics.stdev(AbordagemY02Total)\r\n",
        "print(\"A média aritmetica da abordagem Y avaliação 02 é %.2f\" % media_aritmetica_y_02)"
      ],
      "execution_count": 18,
      "outputs": [
        {
          "output_type": "stream",
          "text": [
            "A média aritmetica da abordagem Y avaliação 02 é 2.24\n"
          ],
          "name": "stdout"
        }
      ]
    },
    {
      "cell_type": "code",
      "metadata": {
        "colab": {
          "base_uri": "https://localhost:8080/"
        },
        "id": "ivGltNPji5Yp",
        "outputId": "9c07e46e-2e0c-442e-d069-71d7cafab42f"
      },
      "source": [
        "media_aluno002 = df002.mean(axis=1)\r\n",
        "print(\"A média dos alunos na abordagem X, na segunda avaliação é:\", media_aluno002)"
      ],
      "execution_count": 19,
      "outputs": [
        {
          "output_type": "stream",
          "text": [
            "A média dos alunos na abordagem X, na segunda avaliação é: 0     1.743333\n",
            "1     5.333333\n",
            "2     5.033333\n",
            "3     5.710000\n",
            "4     5.850000\n",
            "5     5.803333\n",
            "6     5.436667\n",
            "7     4.626667\n",
            "8     8.336667\n",
            "9     6.180000\n",
            "10    5.713333\n",
            "11    7.600000\n",
            "12    4.893333\n",
            "13    5.313333\n",
            "14    7.656667\n",
            "15    5.573333\n",
            "16    6.470000\n",
            "17    7.673333\n",
            "18    5.786667\n",
            "19    7.300000\n",
            "20    6.716667\n",
            "21    5.626667\n",
            "22    6.880000\n",
            "23    6.880000\n",
            "24    8.686667\n",
            "25    5.343333\n",
            "dtype: float64\n"
          ],
          "name": "stdout"
        }
      ]
    },
    {
      "cell_type": "code",
      "metadata": {
        "colab": {
          "base_uri": "https://localhost:8080/"
        },
        "id": "TLWUwZWo03-7",
        "outputId": "8edf3303-2e11-4cca-a21f-c33f0623c869"
      },
      "source": [
        "media_aluno002 = df002.mean()\r\n",
        "print(\"A média das avaliações na abordagem X, na segunda avaliação é:\", media_aluno002)"
      ],
      "execution_count": 20,
      "outputs": [
        {
          "output_type": "stream",
          "text": [
            "A média das avaliações na abordagem X, na segunda avaliação é: A1    4.729231\n",
            "A2    5.840000\n",
            "A3    7.680769\n",
            "dtype: float64\n"
          ],
          "name": "stdout"
        }
      ]
    },
    {
      "cell_type": "code",
      "metadata": {
        "colab": {
          "base_uri": "https://localhost:8080/"
        },
        "id": "HU2jFsC4i7uj",
        "outputId": "997a6b0d-9ed3-4ff6-eb68-d122de8f8da9"
      },
      "source": [
        "desvio_padrao002 = df002.std(axis=1)\r\n",
        "print(\"O desvio padrão dos alunos na abordagem X, na segunda avaliação é: \", desvio_padrao002)"
      ],
      "execution_count": 21,
      "outputs": [
        {
          "output_type": "stream",
          "text": [
            "O desvio padrão dos alunos na abordagem X, na segunda avaliação é:  0     1.578903\n",
            "1     1.782704\n",
            "2     1.282199\n",
            "3     1.221106\n",
            "4     2.497279\n",
            "5     0.392471\n",
            "6     2.536382\n",
            "7     1.723959\n",
            "8     0.631295\n",
            "9     1.861075\n",
            "10    3.073847\n",
            "11    2.782535\n",
            "12    1.562893\n",
            "13    3.242628\n",
            "14    2.145095\n",
            "15    1.389328\n",
            "16    1.553963\n",
            "17    2.623439\n",
            "18    2.961509\n",
            "19    3.314619\n",
            "20    3.302262\n",
            "21    1.150232\n",
            "22    1.899342\n",
            "23    1.899342\n",
            "24    1.330877\n",
            "25    1.954004\n",
            "dtype: float64\n"
          ],
          "name": "stdout"
        }
      ]
    },
    {
      "cell_type": "code",
      "metadata": {
        "colab": {
          "base_uri": "https://localhost:8080/"
        },
        "id": "-TkD27Z2jAjR",
        "outputId": "9a8d1d7a-2836-4837-d41e-8f7889dd4708"
      },
      "source": [
        "#Abordagem Y - Avaliação 03\r\n",
        "\r\n",
        "AbordagemY03 = [[3.71, 4.53, 7.48],\r\n",
        "                [5.70, 7.26, 9.10],\r\n",
        "                [4.56, 6.08, 8.15],\r\n",
        "                [4.26, 6.15, 8.11],\r\n",
        "                [4.82, 8.27, 8.19],\r\n",
        "                [4.74, 5.53, 7.69],\r\n",
        "                [6.16, 7.19, 8.43],\r\n",
        "                [5.26, 9.11, 9.07],\r\n",
        "                [6.53, 7.09, 9.77],\r\n",
        "                [6.12, 6.82, 8.63],\r\n",
        "                [6.63, 8.45, 8.55],\r\n",
        "                [8.30, 8.50, 9.54],\r\n",
        "                [5.31, 8.13, 7.12],\r\n",
        "                [5.99, 6.43, 7.92],\r\n",
        "                [8.79, 7.13, 9.38],\r\n",
        "                [5.59, 5.81, 10.00],\r\n",
        "                [5.95, 5.74, 9.04],\r\n",
        "                [7.32, 6.45, 8.05]]\r\n",
        "\r\n",
        "\r\n",
        "AbordagemY03Total = [3.71, 4.53, 7.48,\r\n",
        "                5.70, 7.26, 9.10,\r\n",
        "                4.56, 6.08, 8.15,\r\n",
        "                4.26, 6.15, 8.11,\r\n",
        "                4.82, 8.27, 8.19,\r\n",
        "                4.74, 5.53, 7.69,\r\n",
        "                6.16, 7.19, 8.43,\r\n",
        "                5.26, 9.11, 9.07,\r\n",
        "                6.53, 7.09, 9.77,\r\n",
        "                6.12, 6.82, 8.63,\r\n",
        "                6.63, 8.45, 8.55,\r\n",
        "                8.30, 8.50, 9.54,\r\n",
        "                5.31, 8.13, 7.12,\r\n",
        "                5.99, 6.43, 7.92,\r\n",
        "                8.79, 7.13, 9.38,\r\n",
        "                5.59, 5.81, 10.00,\r\n",
        "                5.95, 5.74, 9.04,\r\n",
        "                7.32, 6.45, 8.05]\r\n",
        "\r\n",
        "\r\n",
        "df003 = pd.DataFrame(AbordagemY03, columns=['A1', 'A2', 'A3'])\r\n",
        "media_aritmetica_y_03 = statistics.stdev(AbordagemY03Total)\r\n",
        "print(\"A média aritmetica da abordagem Y avaliação 03 é %.2f\" % media_aritmetica_y_03)"
      ],
      "execution_count": 22,
      "outputs": [
        {
          "output_type": "stream",
          "text": [
            "A média aritmetica da abordagem Y avaliação 03 é 1.58\n"
          ],
          "name": "stdout"
        }
      ]
    },
    {
      "cell_type": "code",
      "metadata": {
        "colab": {
          "base_uri": "https://localhost:8080/"
        },
        "id": "5LqKYShFkUIc",
        "outputId": "48ad1e0e-f13e-4f44-ea8c-79a97fb19e3a"
      },
      "source": [
        "media_aluno003 = df003.mean(axis=1)\r\n",
        "print(\"A média dos alunos na abordagem X, na terceira avaliação é:\", media_aluno003)"
      ],
      "execution_count": 23,
      "outputs": [
        {
          "output_type": "stream",
          "text": [
            "A média dos alunos na abordagem X, na terceira avaliação é: 0     5.240000\n",
            "1     7.353333\n",
            "2     6.263333\n",
            "3     6.173333\n",
            "4     7.093333\n",
            "5     5.986667\n",
            "6     7.260000\n",
            "7     7.813333\n",
            "8     7.796667\n",
            "9     7.190000\n",
            "10    7.876667\n",
            "11    8.780000\n",
            "12    6.853333\n",
            "13    6.780000\n",
            "14    8.433333\n",
            "15    7.133333\n",
            "16    6.910000\n",
            "17    7.273333\n",
            "dtype: float64\n"
          ],
          "name": "stdout"
        }
      ]
    },
    {
      "cell_type": "code",
      "metadata": {
        "colab": {
          "base_uri": "https://localhost:8080/"
        },
        "id": "VkPxlLnj0_NF",
        "outputId": "f91439ee-62db-478e-8e45-cfa6c348dae9"
      },
      "source": [
        "media_aluno003 = df003.mean()\r\n",
        "print(\"A média das avaliações na abordagem X, na terceira avaliação é:\", media_aluno003)"
      ],
      "execution_count": 24,
      "outputs": [
        {
          "output_type": "stream",
          "text": [
            "A média das avaliações na abordagem X, na terceira avaliação é: A1    5.874444\n",
            "A2    6.926111\n",
            "A3    8.567778\n",
            "dtype: float64\n"
          ],
          "name": "stdout"
        }
      ]
    },
    {
      "cell_type": "code",
      "metadata": {
        "colab": {
          "base_uri": "https://localhost:8080/"
        },
        "id": "9iT9tUHGkc7V",
        "outputId": "2941f383-9fd0-42d8-e326-eb210a5dae73"
      },
      "source": [
        "desvio_padrao003 = df003.std(axis=1)\r\n",
        "print(\"O desvio padrão dos alunos na abordagem X, na terceira avaliação é: \", desvio_padrao003)"
      ],
      "execution_count": 25,
      "outputs": [
        {
          "output_type": "stream",
          "text": [
            "O desvio padrão dos alunos na abordagem X, na terceira avaliação é:  0     1.982751\n",
            "1     1.701920\n",
            "2     1.802008\n",
            "3     1.925106\n",
            "4     1.969171\n",
            "5     1.527100\n",
            "6     1.136618\n",
            "7     2.211342\n",
            "8     1.731743\n",
            "9     1.295261\n",
            "10    1.080802\n",
            "11    0.665733\n",
            "12    1.428787\n",
            "13    1.011484\n",
            "14    1.166633\n",
            "15    2.485042\n",
            "16    1.847620\n",
            "17    0.801020\n",
            "dtype: float64\n"
          ],
          "name": "stdout"
        }
      ]
    },
    {
      "cell_type": "markdown",
      "metadata": {
        "id": "Fa7korbSk4Nw"
      },
      "source": [
        "#Boxplot"
      ]
    },
    {
      "cell_type": "code",
      "metadata": {
        "id": "ht-CWgqrkgUd"
      },
      "source": [
        "import matplotlib.pyplot as plt\r\n"
      ],
      "execution_count": 26,
      "outputs": []
    },
    {
      "cell_type": "code",
      "metadata": {
        "id": "Uo_Ep2rGlza4"
      },
      "source": [
        ""
      ],
      "execution_count": 26,
      "outputs": []
    }
  ]
}